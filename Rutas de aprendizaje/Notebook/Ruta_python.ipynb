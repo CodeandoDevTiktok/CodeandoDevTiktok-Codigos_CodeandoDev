{
 "cells": [
  {
   "cell_type": "markdown",
   "metadata": {},
   "source": [
    "<div style=\"position: relative; background-color: #E1CC85; padding: 180px; border-radius: 10px;\">\n",
    "    <h2 style=\"margin-bottom: 0; color: #02270F;\"><b>Ruta de Python</b></h2>\n",
    "    <h3 style=\"margin-top: 0; color: #000000;\"> 🚀 8 Estaciones</h3>\n",
    "    <img src=\"https://upload.wikimedia.org/wikipedia/commons/thumb/c/c3/Python-logo-notext.svg/172px-Python-logo-notext.svg.png\" style=\"position: absolute; bottom: 10px; right: 10px; height: 110px;\">\n",
    "</div>"
   ]
  },
  {
   "cell_type": "markdown",
   "metadata": {
    "scrolled": true,
    "slideshow": {
     "slide_type": "slide"
    }
   },
   "source": [
    "<div style='background-color: #E1CC85; padding: 20px; border-radius: 10px; display: flex; justify-content: space-between; align-items: center;'>\n",
    "    <h1><span style='color: #02270F;'>Ruta Python | Libros 📚 </span></h1>\n",
    "</div>"
   ]
  },
  {
   "cell_type": "markdown",
   "metadata": {
    "slideshow": {
     "slide_type": "fragment"
    }
   },
   "source": [
    "<div style=\"display: flex; justify-content: space-around; background-color: #F0F0DD; padding: 20px; border-radius: 10px;\">\n",
    "    <div style=\"flex: 1; padding: 10px;\">\n",
    "        <img src=\"https://m.media-amazon.com/images/I/919KuZYJGJL._SY466_.jpg\" style=\"height: 400px; width: auto; max-width: 100%;\">\n",
    "    </div>\n",
    "    <div style=\"flex: 1; padding: 10px;\">\n",
    "        <img src=\"https://m.media-amazon.com/images/I/519QwuI5qKL._SX342_SY445_.jpg\" style=\"height: 400px; width: auto; max-width: 100%;\">\n",
    "    </div>\n",
    "    <div style=\"flex: 1; padding: 10px;\">\n",
    "        <img src=\"https://m.media-amazon.com/images/I/514cSQ0O9OL._SY445_SX342_.jpg\" style=\"height: 400px; width: auto; max-width: 100%;\">\n",
    "    </div>\n",
    "</div>"
   ]
  },
  {
   "cell_type": "markdown",
   "metadata": {
    "scrolled": true,
    "slideshow": {
     "slide_type": "slide"
    }
   },
   "source": [
    "<div style='background-color: #E1CC85; padding: 20px; border-radius: 10px; display: flex; justify-content: space-between; align-items: center;'>\n",
    "    <h1><span style='color: #02270F;'>Estación 1 | Inicios 💻 </span></h1>\n",
    "</div>"
   ]
  },
  {
   "cell_type": "markdown",
   "metadata": {
    "slideshow": {
     "slide_type": "fragment"
    }
   },
   "source": [
    "<div style='background-color: #F0F0DD; padding: 20px; border-radius: 10px;'>\n",
    "    <ul>\n",
    "        <li>✅ Lógica de programación</li>\n",
    "        <li>✅ Variables y tipos de datos</li>\n",
    "        <li>✅ Entradas y salidas</li>\n",
    "    </ul>\n",
    "</div>"
   ]
  },
  {
   "cell_type": "markdown",
   "metadata": {
    "slideshow": {
     "slide_type": "slide"
    }
   },
   "source": [
    "<div style='background-color: #E1CC85; padding: 20px; border-radius: 10px; display: flex; justify-content: space-between; align-items: center;'>\n",
    "    <h1><span style='color: #02270F;'>Estación 1 | Lógica de programación </span></h1>\n",
    "</div>"
   ]
  },
  {
   "cell_type": "markdown",
   "metadata": {
    "slideshow": {
     "slide_type": "fragment"
    }
   },
   "source": [
    "<div style='background-color: #F0F0DD; text-align: center; display: flex; justify-content: center; align-items: center; height: 100vh;'>\n",
    "    <img src=\"https://learning.oreilly.com/api/v2/epubs/urn:orm:book:9781491958858/files/assets/f0002-02.png\" style='max-width: 110%; max-height: 110%; object-fit: contain; padding-left:5px;' />\n",
    "</div>"
   ]
  },
  {
   "cell_type": "markdown",
   "metadata": {
    "slideshow": {
     "slide_type": "slide"
    }
   },
   "source": [
    "<div style='background-color: #E1CC85; padding: 20px; border-radius: 10px; display: flex; justify-content: space-between; align-items: center;'>\n",
    "    <h1><span style='color: #02270F;'>Estación 1 | Lógica de programación </span></h1>\n",
    "</div>"
   ]
  },
  {
   "cell_type": "markdown",
   "metadata": {
    "slideshow": {
     "slide_type": "fragment"
    }
   },
   "source": [
    "<div style='background-color: #F0F0DD; text-align: center; display: flex; justify-content: center; align-items: center; height: 100vh;'>\n",
    "    <img src=\"https://learning.oreilly.com/api/v2/epubs/urn:orm:book:9781491958858/files/assets/f0006-01.png\" style='max-width: 100%; max-height: 100%; object-fit: contain; padding-left:5px;' />\n",
    "</div>\n"
   ]
  },
  {
   "cell_type": "markdown",
   "metadata": {
    "slideshow": {
     "slide_type": "slide"
    }
   },
   "source": [
    "<div style='background-color: #E1CC85; padding: 20px; border-radius: 10px; display: flex; justify-content: space-between; align-items: center;'>\n",
    "    <h1><span style='color: #02270F;'>Estación 1 | Lógica de programación </span></h1>\n",
    "</div>"
   ]
  },
  {
   "cell_type": "code",
   "execution_count": null,
   "metadata": {
    "slideshow": {
     "slide_type": "fragment"
    }
   },
   "outputs": [],
   "source": [
    "#1. Entradas\n",
    "#2. Salidas\n",
    "#3. Restricciones\n",
    "#4. Proposito/Objetivo\n"
   ]
  },
  {
   "cell_type": "code",
   "execution_count": null,
   "metadata": {
    "slideshow": {
     "slide_type": "fragment"
    }
   },
   "outputs": [],
   "source": [
    "#Crea un calculadora\n",
    "#Entradas : numeros 0 al 9, operacion: +.., enter/=\n",
    "#Salidas :impresion resultado +,-,*,...\n",
    "#Restricciones: max digitos\n",
    "#Objetivo: imprimir respuesta"
   ]
  },
  {
   "cell_type": "markdown",
   "metadata": {
    "slideshow": {
     "slide_type": "slide"
    }
   },
   "source": [
    "<div style='background-color: #E1CC85; padding: 20px; border-radius: 10px; display: flex; justify-content: space-between; align-items: center;'>\n",
    "    <h1><span style='color: #02270F;'>Estación 1 | Lógica de programación </span></h1>\n",
    "</div>"
   ]
  },
  {
   "cell_type": "markdown",
   "metadata": {
    "slideshow": {
     "slide_type": "fragment"
    }
   },
   "source": [
    "<div style='background-color: #F0F0DD; text-align: center; display: flex; justify-content: center; align-items: center; height: 100vh;'>\n",
    "    <img src=\"https://learning.oreilly.com/api/v2/epubs/urn:orm:book:9781491958858/files/assets/f0011-01.png\" style='max-width: 100%; max-height: 100%; object-fit: contain; padding-left:5px;' />\n",
    "</div>\n"
   ]
  },
  {
   "cell_type": "markdown",
   "metadata": {
    "slideshow": {
     "slide_type": "slide"
    }
   },
   "source": [
    "<div style='background-color: #E1CC85; padding: 20px; border-radius: 10px; display: flex; justify-content: space-between; align-items: center;'>\n",
    "    <h1><span style='color: #02270F;'>Estación 1 | Variables y tipo de datos </span></h1>\n",
    "</div>"
   ]
  },
  {
   "cell_type": "markdown",
   "metadata": {
    "slideshow": {
     "slide_type": "fragment"
    }
   },
   "source": [
    "<div style='background-color: #F0F0DD; text-align: center;'>\n",
    "    <div style=\"padding-left:20px;\">\n",
    "        <img src=\"https://learning.oreilly.com/api/v2/epubs/urn:orm:book:9781491958858/files/assets/f0046-02.png\" style=\"width: 100%; height: auto; object-fit: cover;\">\n",
    "    </div>\n",
    "    <div style=\"padding-left:20px;\">\n",
    "        <img src=\"https://learning.oreilly.com/api/v2/epubs/urn:orm:book:9781491958858/files/assets/f0046-01.png\" style=\"width: 100%; height: auto; object-fit: cover;\">\n",
    "    </div>\n",
    "    <div style=\"padding-left:20px;\">\n",
    "        <img src=\"https://learning.oreilly.com/api/v2/epubs/urn:orm:book:9781491958858/files/assets/f0045-04.png\" style=\"width: 100%; height: auto; object-fit: cover;\">\n",
    "    </div>\n",
    "</div>"
   ]
  },
  {
   "cell_type": "markdown",
   "metadata": {
    "slideshow": {
     "slide_type": "slide"
    }
   },
   "source": [
    "<div style='background-color: #E1CC85; padding: 20px; border-radius: 10px; display: flex; justify-content: space-between; align-items: center;'>\n",
    "    <h1><span style='color: #02270F;'>Estación 1 | Variables y tipo de datos </span></h1>\n",
    "</div>"
   ]
  },
  {
   "cell_type": "code",
   "execution_count": null,
   "metadata": {
    "slideshow": {
     "slide_type": "fragment"
    }
   },
   "outputs": [],
   "source": [
    "# Variables\n",
    "numero = 45  #Integer\n",
    "decimal = 18.9  #Decimal\n",
    "texto = 'hola'  #String\n",
    "logica = True  #Bool\n"
   ]
  },
  {
   "cell_type": "code",
   "execution_count": 10,
   "metadata": {
    "slideshow": {
     "slide_type": "fragment"
    }
   },
   "outputs": [
    {
     "name": "stdout",
     "output_type": "stream",
     "text": [
      "---------\n",
      "<class 'int'>\n",
      "<class 'float'>\n",
      "<class 'str'>\n",
      "<class 'bool'>\n",
      "---------\n"
     ]
    }
   ],
   "source": [
    "#Validacion de tipo de datos\n",
    "print(\"---------\")\n",
    "print(type(numero))\n",
    "print(type(decimal))\n",
    "print(type(texto))\n",
    "print(type(logica))\n",
    "print(\"---------\")\n"
   ]
  },
  {
   "cell_type": "markdown",
   "metadata": {
    "slideshow": {
     "slide_type": "slide"
    }
   },
   "source": [
    "<div style='background-color: #E1CC85; padding: 20px; border-radius: 10px; display: flex; justify-content: space-between; align-items: center;'>\n",
    "    <h1><span style='color: #02270F;'>Estación 1 | Entradas y Salidas </span></h1>\n",
    "</div>"
   ]
  },
  {
   "cell_type": "markdown",
   "metadata": {
    "slideshow": {
     "slide_type": "fragment"
    }
   },
   "source": [
    "<div style='background-color: #F0F0DD; text-align: center; display: flex; justify-content: center; align-items: center; height: 100vh;'>\n",
    "    <img src=\"https://learning.oreilly.com/api/v2/epubs/urn:orm:book:9781491958858/files/assets/f0041-02.png\" style='max-width: 200%; max-height: 70vh; object-fit: contain; padding-left:20px;' />\n",
    "</div>\n"
   ]
  },
  {
   "cell_type": "code",
   "execution_count": 11,
   "metadata": {
    "scrolled": true,
    "slideshow": {
     "slide_type": "fragment"
    }
   },
   "outputs": [
    {
     "name": "stdout",
     "output_type": "stream",
     "text": [
      "El numero es:  45\n",
      "hola  a todos\n",
      "La logica True es la rpta.\n"
     ]
    }
   ],
   "source": [
    "#Ejemplos de impresiones\n",
    "print(\"El numero es: \", numero)\n",
    "print(texto, \" a todos\")\n",
    "print(\"La logica\", logica, \"es la rpta.\")\n"
   ]
  },
  {
   "cell_type": "markdown",
   "metadata": {
    "scrolled": true,
    "slideshow": {
     "slide_type": "slide"
    }
   },
   "source": [
    "<div style='background-color: #E1CC85; padding: 20px; border-radius: 10px; display: flex; justify-content: space-between; align-items: center;'>\n",
    "    <h1><span style='color: #02270F;'>Estación 2 | Listas 💻 </span></h1>\n",
    "</div>"
   ]
  },
  {
   "cell_type": "markdown",
   "metadata": {
    "slideshow": {
     "slide_type": "fragment"
    }
   },
   "source": [
    "<div style='background-color: #F0F0DD; padding: 20px; border-radius: 10px;'>\n",
    "    <ul>\n",
    "        <li>✅ Listas</li>\n",
    "        <li>✅ Metodos de listas</li>\n",
    "        <li>✅ Errores en listas</li>\n",
    "    </ul>\n",
    "</div>"
   ]
  },
  {
   "cell_type": "markdown",
   "metadata": {
    "scrolled": true,
    "slideshow": {
     "slide_type": "slide"
    }
   },
   "source": [
    "<div style='background-color: #E1CC85; padding: 20px; border-radius: 10px; display: flex; justify-content: space-between; align-items: center;'>\n",
    "    <h1><span style='color: #02270F;'>Estación 2 | Listas </span></h1>\n",
    "</div>"
   ]
  },
  {
   "cell_type": "markdown",
   "metadata": {
    "slideshow": {
     "slide_type": "fragment"
    }
   },
   "source": [
    "<div style='background-color: #F0F0DD; text-align: center; display: flex; justify-content: center; align-items: center; height: 100vh;'>\n",
    "    <img src=\"https://learning.oreilly.com/api/v2/epubs/urn:orm:book:9781491958858/files/assets/f0126-02.png\" style='max-width: 100%; max-height: 70vh; object-fit: contain; padding-left:20px;' />\n",
    "</div>"
   ]
  },
  {
   "cell_type": "markdown",
   "metadata": {
    "scrolled": true,
    "slideshow": {
     "slide_type": "slide"
    }
   },
   "source": [
    "<div style='background-color: #E1CC85; padding: 20px; border-radius: 10px; display: flex; justify-content: space-between; align-items: center;'>\n",
    "    <h1><span style='color: #02270F;'>Estación 2 | Listas </span></h1>\n",
    "</div>"
   ]
  },
  {
   "cell_type": "markdown",
   "metadata": {
    "slideshow": {
     "slide_type": "fragment"
    }
   },
   "source": [
    "<div style='background-color: #F0F0DD; text-align: center; display: flex; justify-content: center; align-items: center; height: 100vh;'>\n",
    "    <img src=\"https://learning.oreilly.com/api/v2/epubs/urn:orm:book:9781491958858/files/assets/f0127-01.png\" style='max-width: 100%; max-height: 70vh; object-fit: contain; padding-left:20px;' />\n",
    "</div>"
   ]
  },
  {
   "cell_type": "markdown",
   "metadata": {
    "scrolled": true,
    "slideshow": {
     "slide_type": "slide"
    }
   },
   "source": [
    "<div style='background-color: #E1CC85; padding: 20px; border-radius: 10px; display: flex; justify-content: space-between; align-items: center;'>\n",
    "    <h1><span style='color: #02270F;'>Estación 2 | Listas </span></h1>\n",
    "</div>"
   ]
  },
  {
   "cell_type": "markdown",
   "metadata": {
    "slideshow": {
     "slide_type": "fragment"
    }
   },
   "source": [
    "<div style='background-color: #F0F0DD; text-align: center; display: flex; justify-content: center; align-items: center; height: 100vh;'>\n",
    "    <img src=\"https://learning.oreilly.com/api/v2/epubs/urn:orm:book:9781491958858/files/assets/f0131-01.png\" style='max-width: 100%; max-height: 70vh; object-fit: contain; padding-left:20px;' />\n",
    "</div>"
   ]
  },
  {
   "cell_type": "markdown",
   "metadata": {
    "scrolled": true,
    "slideshow": {
     "slide_type": "slide"
    }
   },
   "source": [
    "<div style='background-color: #E1CC85; padding: 20px; border-radius: 10px; display: flex; justify-content: space-between; align-items: center;'>\n",
    "    <h1><span style='color: #02270F;'>Estación 2 | Listas </span></h1>\n",
    "</div>"
   ]
  },
  {
   "cell_type": "markdown",
   "metadata": {
    "slideshow": {
     "slide_type": "fragment"
    }
   },
   "source": [
    "<div style='background-color: #F0F0DD; text-align: center; display: flex; justify-content: center; align-items: center; height: 100vh;'>\n",
    "    <img src=\"https://learning.oreilly.com/api/v2/epubs/urn:orm:book:9781491958858/files/assets/f0132-02.png\" style='max-width: 100%; max-height: 70vh; object-fit: contain; padding-left:20px;' />\n",
    "</div>"
   ]
  },
  {
   "cell_type": "markdown",
   "metadata": {
    "scrolled": true,
    "slideshow": {
     "slide_type": "slide"
    }
   },
   "source": [
    "<div style='background-color: #E1CC85; padding: 20px; border-radius: 10px; display: flex; justify-content: space-between; align-items: center;'>\n",
    "    <h1><span style='color: #02270F;'>Estación 2 | Listas </span></h1>\n",
    "</div>"
   ]
  },
  {
   "cell_type": "code",
   "execution_count": 1,
   "metadata": {
    "scrolled": false,
    "slideshow": {
     "slide_type": "fragment"
    }
   },
   "outputs": [
    {
     "name": "stdout",
     "output_type": "stream",
     "text": [
      "Mi lista es: especial\n",
      "<class 'str'>\n",
      "Trek\n",
      "<class 'list'>\n"
     ]
    }
   ],
   "source": [
    "#Posicion 0->x\n",
    "#Posicion  <- -3\n",
    "bicicleta = [\"trek\", \"especial\", \"campo\"]\n",
    "\n",
    "print(f\"Mi lista es: {bicicleta[1]}\")\n",
    "print(type(bicicleta[0]))\n",
    "print(bicicleta[0].title())\n",
    "print(type(bicicleta))\n"
   ]
  },
  {
   "cell_type": "markdown",
   "metadata": {
    "scrolled": true,
    "slideshow": {
     "slide_type": "slide"
    }
   },
   "source": [
    "<div style='background-color: #E1CC85; padding: 20px; border-radius: 10px; display: flex; justify-content: space-between; align-items: center;'>\n",
    "    <h1><span style='color: #02270F;'>Estación 2 | Métodos de Listas </span></h1>\n",
    "</div>"
   ]
  },
  {
   "cell_type": "code",
   "execution_count": 2,
   "metadata": {
    "scrolled": false,
    "slideshow": {
     "slide_type": "fragment"
    }
   },
   "outputs": [
    {
     "name": "stdout",
     "output_type": "stream",
     "text": [
      "['trek', 'especial', 'campo', 'montañera']\n",
      "['trek', 'xtreme', 'especial', 'campo', 'montañera']\n",
      "['xtreme', 'especial', 'campo', 'montañera']\n",
      "['campo', 'especial', 'montañera', 'xtreme']\n"
     ]
    }
   ],
   "source": [
    "#Operaciones:\n",
    "\n",
    "#Agregar al final\n",
    "bicicleta.append(\"montañera\")\n",
    "print(bicicleta)\n",
    "\n",
    "#Insertar\n",
    "bicicleta.insert(1, \"xtreme\")\n",
    "print(bicicleta)\n",
    "\n",
    "#Eliminar\n",
    "bicicleta.remove(\"trek\")\n",
    "print(bicicleta)\n",
    "\n",
    "#Ordenar\n",
    "bicicleta.sort()\n",
    "print(bicicleta)"
   ]
  },
  {
   "cell_type": "markdown",
   "metadata": {
    "scrolled": true,
    "slideshow": {
     "slide_type": "slide"
    }
   },
   "source": [
    "<div style='background-color: #E1CC85; padding: 20px; border-radius: 10px; display: flex; justify-content: space-between; align-items: center;'>\n",
    "    <h1><span style='color: #02270F;'>Estación 2 | Errores </span></h1>\n",
    "</div>"
   ]
  },
  {
   "cell_type": "code",
   "execution_count": 3,
   "metadata": {
    "scrolled": true,
    "slideshow": {
     "slide_type": "fragment"
    }
   },
   "outputs": [
    {
     "ename": "IndexError",
     "evalue": "list index out of range",
     "output_type": "error",
     "traceback": [
      "\u001b[1;31m---------------------------------------------------------------------------\u001b[0m",
      "\u001b[1;31mIndexError\u001b[0m                                Traceback (most recent call last)",
      "Cell \u001b[1;32mIn[3], line 3\u001b[0m\n\u001b[0;32m      1\u001b[0m \u001b[38;5;66;03m#Errores:\u001b[39;00m\n\u001b[0;32m      2\u001b[0m bicicleta2 \u001b[38;5;241m=\u001b[39m [\u001b[38;5;124m\"\u001b[39m\u001b[38;5;124mtrek\u001b[39m\u001b[38;5;124m\"\u001b[39m, \u001b[38;5;124m\"\u001b[39m\u001b[38;5;124mespecial\u001b[39m\u001b[38;5;124m\"\u001b[39m, \u001b[38;5;124m\"\u001b[39m\u001b[38;5;124mcampo\u001b[39m\u001b[38;5;124m\"\u001b[39m]\n\u001b[1;32m----> 3\u001b[0m \u001b[38;5;28mprint\u001b[39m(\u001b[43mbicicleta2\u001b[49m\u001b[43m[\u001b[49m\u001b[38;5;241;43m50\u001b[39;49m\u001b[43m]\u001b[49m)\n",
      "\u001b[1;31mIndexError\u001b[0m: list index out of range"
     ]
    }
   ],
   "source": [
    "#Errores:\n",
    "bicicleta2 = [\"trek\", \"especial\", \"campo\"]\n",
    "print(bicicleta2[50])"
   ]
  },
  {
   "cell_type": "markdown",
   "metadata": {
    "scrolled": true,
    "slideshow": {
     "slide_type": "slide"
    }
   },
   "source": [
    "<div style='background-color: #E1CC85; padding: 20px; border-radius: 10px; display: flex; justify-content: space-between; align-items: center;'>\n",
    "    <h1><span style='color: #02270F;'>Estación 3 | Decisiones 💻 </span></h1>\n",
    "</div>"
   ]
  },
  {
   "cell_type": "markdown",
   "metadata": {
    "slideshow": {
     "slide_type": "fragment"
    }
   },
   "source": [
    "<div style='background-color: #F0F0DD; padding: 20px; border-radius: 10px;'>\n",
    "    <ul>\n",
    "        <li>✅ Booleanos</li>\n",
    "        <li>✅ Declaraciones If Simple</li>\n",
    "        <li>✅ Declaraciones If Anidados</li>\n",
    "    </ul>\n",
    "</div>"
   ]
  },
  {
   "cell_type": "markdown",
   "metadata": {
    "scrolled": true,
    "slideshow": {
     "slide_type": "slide"
    }
   },
   "source": [
    "<div style='background-color: #E1CC85; padding: 20px; border-radius: 10px; display: flex; justify-content: space-between; align-items: center;'>\n",
    "    <h1><span style='color: #02270F;'>Estación 3 | Decisiones </span></h1>\n",
    "</div>"
   ]
  },
  {
   "cell_type": "markdown",
   "metadata": {
    "slideshow": {
     "slide_type": "fragment"
    }
   },
   "source": [
    "<div style='background-color: #F0F0DD; text-align: center; display: flex; justify-content: center; align-items: center; height: 100vh;'>\n",
    "    <img src=\"https://learning.oreilly.com/api/v2/epubs/urn:orm:book:9781491958858/files/assets/f0074-02.png\" style='max-width: 100%; max-height: 70vh; object-fit: contain; padding-left:20px;' />\n",
    "</div>"
   ]
  },
  {
   "cell_type": "markdown",
   "metadata": {
    "scrolled": true,
    "slideshow": {
     "slide_type": "slide"
    }
   },
   "source": [
    "<div style='background-color: #E1CC85; padding: 20px; border-radius: 10px; display: flex; justify-content: space-between; align-items: center;'>\n",
    "    <h1><span style='color: #02270F;'>Estación 3 | Decisiones </span></h1>\n",
    "</div>"
   ]
  },
  {
   "cell_type": "markdown",
   "metadata": {
    "slideshow": {
     "slide_type": "fragment"
    }
   },
   "source": [
    "<div style='background-color: #F0F0DD; text-align: center; display: flex; justify-content: center; align-items: center; height: 100vh;'>\n",
    "    <img src=\"https://learning.oreilly.com/api/v2/epubs/urn:orm:book:9781491958858/files/assets/f0075-01.png\" style='max-width: 100%; max-height: 70vh; object-fit: contain; padding-left:20px;' />\n",
    "</div>"
   ]
  },
  {
   "cell_type": "markdown",
   "metadata": {
    "scrolled": true,
    "slideshow": {
     "slide_type": "slide"
    }
   },
   "source": [
    "<div style='background-color: #E1CC85; padding: 20px; border-radius: 10px; display: flex; justify-content: space-between; align-items: center;'>\n",
    "    <h1><span style='color: #02270F;'>Estación 3 | Decisiones </span></h1>\n",
    "</div>"
   ]
  },
  {
   "cell_type": "markdown",
   "metadata": {
    "slideshow": {
     "slide_type": "fragment"
    }
   },
   "source": [
    "<div style='background-color: #F0F0DD; text-align: center; display: flex; justify-content: center; align-items: center; height: 100vh;'>\n",
    "    <img src=\"https://learning.oreilly.com/api/v2/epubs/urn:orm:book:9781491958858/files/assets/f0076-01.png\" style='max-width: 100%; max-height: 70vh; object-fit: contain; padding-left:20px;' />\n",
    "</div>"
   ]
  },
  {
   "cell_type": "markdown",
   "metadata": {
    "scrolled": true,
    "slideshow": {
     "slide_type": "slide"
    }
   },
   "source": [
    "<div style='background-color: #E1CC85; padding: 20px; border-radius: 10px; display: flex; justify-content: space-between; align-items: center;'>\n",
    "    <h1><span style='color: #02270F;'>Estación 3 | Booleanos </span></h1>\n",
    "</div>"
   ]
  },
  {
   "cell_type": "markdown",
   "metadata": {
    "slideshow": {
     "slide_type": "fragment"
    }
   },
   "source": [
    "<div style='background-color: #F0F0DD; text-align: center; display: flex; justify-content: center; align-items: center; height: 100vh;'>\n",
    "    <img src=\"https://learning.oreilly.com/api/v2/epubs/urn:orm:book:9781491958858/files/assets/f0080-02.png\" style='max-width: 100%; max-height: 70vh; object-fit: contain; padding-left:20px;' />\n",
    "</div>"
   ]
  },
  {
   "cell_type": "markdown",
   "metadata": {
    "scrolled": true,
    "slideshow": {
     "slide_type": "slide"
    }
   },
   "source": [
    "<div style='background-color: #E1CC85; padding: 20px; border-radius: 10px; display: flex; justify-content: space-between; align-items: center;'>\n",
    "    <h1><span style='color: #02270F;'>Estación 3 | Booleanos </span></h1>\n",
    "</div>"
   ]
  },
  {
   "cell_type": "markdown",
   "metadata": {
    "slideshow": {
     "slide_type": "fragment"
    }
   },
   "source": [
    "<div style='background-color: #F0F0DD; text-align: center; display: flex; justify-content: center; align-items: center; height: 100vh;'>\n",
    "    <img src=\"https://learning.oreilly.com/api/v2/epubs/urn:orm:book:9781491958858/files/assets/f0081-01.png\" style='max-width: 100%; max-height: 70vh; object-fit: contain; padding-left:20px;' />\n",
    "</div>"
   ]
  },
  {
   "cell_type": "markdown",
   "metadata": {
    "scrolled": true,
    "slideshow": {
     "slide_type": "slide"
    }
   },
   "source": [
    "<div style='background-color: #E1CC85; padding: 20px; border-radius: 10px; display: flex; justify-content: space-between; align-items: center;'>\n",
    "    <h1><span style='color: #02270F;'>Estación 3 | Booleanos </span></h1>\n",
    "</div>"
   ]
  },
  {
   "cell_type": "code",
   "execution_count": 1,
   "metadata": {
    "scrolled": false,
    "slideshow": {
     "slide_type": "fragment"
    }
   },
   "outputs": [
    {
     "name": "stdout",
     "output_type": "stream",
     "text": [
      "True\n",
      "False\n"
     ]
    }
   ],
   "source": [
    "#Verdadero o Falso:\n",
    "\n",
    "edad = 10\n",
    "print(edad>5)\n",
    "print(edad>20)\n"
   ]
  },
  {
   "cell_type": "markdown",
   "metadata": {
    "scrolled": true,
    "slideshow": {
     "slide_type": "slide"
    }
   },
   "source": [
    "<div style='background-color: #E1CC85; padding: 20px; border-radius: 10px; display: flex; justify-content: space-between; align-items: center;'>\n",
    "    <h1><span style='color: #02270F;'>Estación 3 | Declaraciones If Simple </span></h1>\n",
    "</div>"
   ]
  },
  {
   "cell_type": "markdown",
   "metadata": {
    "slideshow": {
     "slide_type": "fragment"
    }
   },
   "source": [
    "<div style='background-color: #F0F0DD; text-align: center;'>\n",
    "    <div style=\"padding-left:20px;\">\n",
    "        <img src=\"https://learning.oreilly.com/api/v2/epubs/urn:orm:book:9781491958858/files/assets/f0082-01.png\" style=\"width: 100%; height: auto; object-fit: cover;\">\n",
    "    </div>\n",
    "    <br>\n",
    "    <div style=\"padding-left:20px;\">\n",
    "        <img src=\"https://learning.oreilly.com/api/v2/epubs/urn:orm:book:9781491958858/files/assets/f0082-02.png\" style=\"width: 100%; height: auto; object-fit: cover;\">\n",
    "    </div>\n",
    "</div>"
   ]
  },
  {
   "cell_type": "markdown",
   "metadata": {
    "scrolled": true,
    "slideshow": {
     "slide_type": "slide"
    }
   },
   "source": [
    "<div style='background-color: #E1CC85; padding: 20px; border-radius: 10px; display: flex; justify-content: space-between; align-items: center;'>\n",
    "    <h1><span style='color: #02270F;'>Estación 3 | Declaraciones If Simple </span></h1>\n",
    "</div>"
   ]
  },
  {
   "cell_type": "code",
   "execution_count": 8,
   "metadata": {
    "scrolled": false,
    "slideshow": {
     "slide_type": "fragment"
    }
   },
   "outputs": [
    {
     "name": "stdout",
     "output_type": "stream",
     "text": [
      "Me quedo a ver\n",
      "Audi\n",
      "Bmw\n",
      "Toyota\n",
      "AUDI\n",
      "Siempre imprime\n",
      "esta incluido Toyota\n",
      "No esta incluido abc\n",
      "TOYOTA\n"
     ]
    }
   ],
   "source": [
    "#Si condicional\n",
    "#(Condicion = True / False)\n",
    "x = \"Si\"\n",
    "if x == \"Si\":\n",
    "  print(\"Me quedo a ver\")\n",
    "\n",
    "if True:\n",
    "  print(\"Siempre imprime\")\n",
    "\n",
    "carros = [\"audi\", \"bmw\", \"toyota\"]\n",
    "#If (Condicion = True / False)\n",
    "if carros[2] == \"toyota\":\n",
    "  print(carros[0].title())\n",
    "  print(carros[1].title())\n",
    "  print(carros[2].title())\n",
    "\n",
    "if carros[0] != \"toyota\":\n",
    "  print(carros[0].upper())"
   ]
  },
  {
   "cell_type": "markdown",
   "metadata": {
    "scrolled": true,
    "slideshow": {
     "slide_type": "slide"
    }
   },
   "source": [
    "<div style='background-color: #E1CC85; padding: 20px; border-radius: 10px; display: flex; justify-content: space-between; align-items: center;'>\n",
    "    <h1><span style='color: #02270F;'>Estación 3 | Declaraciones If Simple </span></h1>\n",
    "</div>"
   ]
  },
  {
   "cell_type": "code",
   "execution_count": 8,
   "metadata": {
    "scrolled": false,
    "slideshow": {
     "slide_type": "fragment"
    }
   },
   "outputs": [
    {
     "name": "stdout",
     "output_type": "stream",
     "text": [
      "Me quedo a ver\n",
      "Audi\n",
      "Bmw\n",
      "Toyota\n",
      "AUDI\n",
      "Siempre imprime\n",
      "esta incluido Toyota\n",
      "No esta incluido abc\n",
      "TOYOTA\n"
     ]
    }
   ],
   "source": [
    "#Si condicional\n",
    "#(Condicion = True / False)\n",
    "if carros[0] == \"toyota\" and carros[1] == \"toyota\":\n",
    "  print(\"Hola!\")\n",
    "\n",
    "if \"toyota\" in carros:\n",
    "  print(\"esta incluido Toyota\")\n",
    "else:\n",
    "  print(\"no esta incluido Toyota\")\n",
    "\n",
    "if \"abc\" not in carros:\n",
    "  print(\"No esta incluido abc\")\n",
    "\n",
    "respuesta = carros[2].title() if carros[0] == 'toyota' else carros[2].upper()\n",
    "print(respuesta)"
   ]
  },
  {
   "cell_type": "markdown",
   "metadata": {
    "scrolled": true,
    "slideshow": {
     "slide_type": "slide"
    }
   },
   "source": [
    "<div style='background-color: #E1CC85; padding: 20px; border-radius: 10px; display: flex; justify-content: space-between; align-items: center;'>\n",
    "    <h1><span style='color: #02270F;'>Estación 3 | Declaraciones If Anidados </span></h1>\n",
    "</div>"
   ]
  },
  {
   "cell_type": "markdown",
   "metadata": {
    "slideshow": {
     "slide_type": "fragment"
    }
   },
   "source": [
    "<div style='background-color: #F0F0DD; text-align: center; display: flex; justify-content: center; align-items: center; height: 100vh;'>\n",
    "    <img src=\"https://learning.oreilly.com/api/v2/epubs/urn:orm:book:9781491958858/files/assets/f0084-02.png\" style='max-width: 100%; max-height: 70vh; object-fit: contain; padding-left:20px;' />\n",
    "</div>"
   ]
  },
  {
   "cell_type": "markdown",
   "metadata": {
    "scrolled": true,
    "slideshow": {
     "slide_type": "slide"
    }
   },
   "source": [
    "<div style='background-color: #E1CC85; padding: 20px; border-radius: 10px; display: flex; justify-content: space-between; align-items: center;'>\n",
    "    <h1><span style='color: #02270F;'>Estación 3 | Declaraciones If Anidados </span></h1>\n",
    "</div>"
   ]
  },
  {
   "cell_type": "code",
   "execution_count": 9,
   "metadata": {
    "scrolled": false,
    "slideshow": {
     "slide_type": "fragment"
    }
   },
   "outputs": [
    {
     "name": "stdout",
     "output_type": "stream",
     "text": [
      "Mi numero: 13, costo es 5\n",
      "Mi numero: 13, costo es 5\n",
      "Mi numero: 13, Tu costo es 10\n",
      "Mi numero: 13, Tu costo es 15\n",
      "Mi numero: 13, Tu costo es 20\n"
     ]
    }
   ],
   "source": [
    "import random\n",
    "\n",
    "numero = random.randint(10, 60)\n",
    "if numero < 20:  #>, >=, <, <=\n",
    "  print(f\"Mi numero: {numero}, costo es 5\")\n",
    "elif numero < 30:\n",
    "  print(f\"Mi numero: {numero}, Tu costo es 10\")\n",
    "elif numero < 40:\n",
    "  print(f\"Mi numero: {numero}, Tu costo es 15\")\n",
    "elif numero < 50:\n",
    "  print(f\"Mi numero: {numero}, Tu costo es 20\")\n",
    "else:\n",
    "  print(f\"Mi numero: {numero}, Tu costo es 30\")\n",
    "\n",
    "if numero < 20:  #>, >=, <, <=\n",
    "  print(f\"Mi numero: {numero}, costo es 5\")\n",
    "if numero < 30:\n",
    "  print(f\"Mi numero: {numero}, Tu costo es 10\")\n",
    "if numero < 40:\n",
    "  print(f\"Mi numero: {numero}, Tu costo es 15\")\n",
    "if numero < 50:\n",
    "  print(f\"Mi numero: {numero}, Tu costo es 20\")\n",
    "else:\n",
    "  print(f\"Mi numero: {numero}, Tu costo es 30\")"
   ]
  }
 ],
 "metadata": {
  "celltoolbar": "Slideshow",
  "kernelspec": {
   "display_name": "Python 3 (ipykernel)",
   "language": "python",
   "name": "python3"
  },
  "language_info": {
   "codemirror_mode": {
    "name": "ipython",
    "version": 3
   },
   "file_extension": ".py",
   "mimetype": "text/x-python",
   "name": "python",
   "nbconvert_exporter": "python",
   "pygments_lexer": "ipython3",
   "version": "3.10.0"
  },
  "rise": {
   "_theme_options": [
    "black",
    "white",
    "league",
    "beige",
    "sky",
    "night",
    "serif"
   ],
   "_transition_options": [
    "none",
    "fade",
    "slide",
    "convex",
    "concave",
    "zoom"
   ],
   "autolaunch": true,
   "enable_chalkboard": true,
   "footer": "<h3 style='margin-left:225px;margin-bottom:40px;color:grey;'>Codeando, Diciembre 2023</h3>",
   "header": "<h3 style='margin-left:10px;color:grey;'> --> Ruta Python 🐍</h3>",
   "theme": "simple",
   "transition": "slide"
  },
  "varInspector": {
   "cols": {
    "lenName": 16,
    "lenType": 16,
    "lenVar": 40
   },
   "kernels_config": {
    "python": {
     "delete_cmd_postfix": "",
     "delete_cmd_prefix": "del ",
     "library": "var_list.py",
     "varRefreshCmd": "print(var_dic_list())"
    },
    "r": {
     "delete_cmd_postfix": ") ",
     "delete_cmd_prefix": "rm(",
     "library": "var_list.r",
     "varRefreshCmd": "cat(var_dic_list()) "
    }
   },
   "types_to_exclude": [
    "module",
    "function",
    "builtin_function_or_method",
    "instance",
    "_Feature"
   ],
   "window_display": false
  }
 },
 "nbformat": 4,
 "nbformat_minor": 4
}
