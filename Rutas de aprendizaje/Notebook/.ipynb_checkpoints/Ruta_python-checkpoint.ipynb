{
 "cells": [
  {
   "cell_type": "markdown",
   "metadata": {
    "slideshow": {
     "slide_type": "slide"
    }
   },
   "source": [
    "<div style='background-color: #E1CC85; margin: 150px; border-radius: 10px;'>\n",
    "    <h1><span style='color: #02270F;'>Ruta de Python</span></h1>\n",
    "    <h3><span style='color: #02270F;'>Estación 1 | Inicios </span></h3>\n",
    "    <ul>\n",
    "        <li>Logica de programación</li>\n",
    "        <li>Variables</li>\n",
    "        <li>Tipos de datos</li>\n",
    "    </ul>\n",
    "</div>"
   ]
  },
  {
   "cell_type": "markdown",
   "metadata": {
    "scrolled": true,
    "slideshow": {
     "slide_type": "slide"
    }
   },
   "source": [
    "<div style='background-color: #E1CC85; padding: 20px; border-radius: 10px;'>\n",
    "    <h1><span style='color: #02270F;'>Ruta de Python</span></h1>\n",
    "    <h3><span style='color: #02270F;'>Estación 1 | Inicios </span></h3>\n",
    "    <ul>\n",
    "        <li>Logica de programación</li>\n",
    "        <li>Variables</li>\n",
    "        <li>Tipos de datos</li>\n",
    "    </ul>\n",
    "</div>"
   ]
  },
  {
   "cell_type": "markdown",
   "metadata": {
    "slideshow": {
     "slide_type": "slide"
    }
   },
   "source": []
  }
 ],
 "metadata": {
  "celltoolbar": "Slideshow",
  "kernelspec": {
   "display_name": "Python 3 (ipykernel)",
   "language": "python",
   "name": "python3"
  },
  "language_info": {
   "codemirror_mode": {
    "name": "ipython",
    "version": 3
   },
   "file_extension": ".py",
   "mimetype": "text/x-python",
   "name": "python",
   "nbconvert_exporter": "python",
   "pygments_lexer": "ipython3",
   "version": "3.10.4"
  }
 },
 "nbformat": 4,
 "nbformat_minor": 4
}
